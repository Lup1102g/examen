{
 "cells": [
  {
   "cell_type": "code",
   "execution_count": 10,
   "id": "0b4e637d",
   "metadata": {},
   "outputs": [
    {
     "name": "stdout",
     "output_type": "stream",
     "text": [
      "Processed page 1, returned <Response [200]>\n",
      "Processed page 2, returned <Response [200]>\n",
      "Processed page 3, returned <Response [200]>\n",
      "Processed page 4, returned <Response [200]>\n",
      "Processed page 5, returned <Response [200]>\n",
      "Processed page 6, returned <Response [200]>\n",
      "Processed page 7, returned <Response [200]>\n",
      "Processed page 8, returned <Response [200]>\n",
      "Processed page 9, returned <Response [200]>\n",
      "Processed page 10, returned <Response [200]>\n",
      "Processed page 11, returned <Response [200]>\n",
      "Processed page 12, returned <Response [200]>\n",
      "Processed page 13, returned <Response [200]>\n",
      "Processed page 14, returned <Response [200]>\n",
      "Processed page 15, returned <Response [200]>\n",
      "Processed page 16, returned <Response [200]>\n",
      "Processed page 17, returned <Response [200]>\n",
      "Processed page 18, returned <Response [200]>\n",
      "Processed page 19, returned <Response [200]>\n",
      "Processed page 20, returned <Response [200]>\n",
      "Processed page 21, returned <Response [200]>\n",
      "Processed page 22, returned <Response [200]>\n",
      "Processed page 23, returned <Response [200]>\n",
      "Processed page 24, returned <Response [200]>\n",
      "Processed page 25, returned <Response [200]>\n"
     ]
    },
    {
     "ename": "KeyError",
     "evalue": "'items'",
     "output_type": "error",
     "traceback": [
      "\u001b[1;31m---------------------------------------------------------------------------\u001b[0m",
      "\u001b[1;31mKeyError\u001b[0m                                  Traceback (most recent call last)",
      "Input \u001b[1;32mIn [10]\u001b[0m, in \u001b[0;36m<cell line: 10>\u001b[1;34m()\u001b[0m\n\u001b[0;32m     11\u001b[0m response \u001b[38;5;241m=\u001b[39m requests\u001b[38;5;241m.\u001b[39mget(\u001b[38;5;124m\"\u001b[39m\u001b[38;5;124mhttps://api.stackexchange.com/2.2/questions?order=desc&sort=activity&site=stackoverflow&pagesize=100&page=\u001b[39m\u001b[38;5;124m\"\u001b[39m \u001b[38;5;241m+\u001b[39m \u001b[38;5;28mstr\u001b[39m(i \u001b[38;5;241m+\u001b[39m \u001b[38;5;241m1\u001b[39m))\n\u001b[0;32m     12\u001b[0m newData\u001b[38;5;241m=\u001b[39mjson\u001b[38;5;241m.\u001b[39mloads(response\u001b[38;5;241m.\u001b[39mtext)\n\u001b[1;32m---> 13\u001b[0m \u001b[38;5;28;01mfor\u001b[39;00m items \u001b[38;5;129;01min\u001b[39;00m \u001b[43mnewData\u001b[49m\u001b[43m[\u001b[49m\u001b[38;5;124;43m'\u001b[39;49m\u001b[38;5;124;43mitems\u001b[39;49m\u001b[38;5;124;43m'\u001b[39;49m\u001b[43m]\u001b[49m:\n\u001b[0;32m     14\u001b[0m     complete_data\u001b[38;5;241m.\u001b[39mappend(item)\n\u001b[0;32m     15\u001b[0m \u001b[38;5;28mprint\u001b[39m(\u001b[38;5;124m\"\u001b[39m\u001b[38;5;124mProcessed page \u001b[39m\u001b[38;5;124m\"\u001b[39m \u001b[38;5;241m+\u001b[39m \u001b[38;5;28mstr\u001b[39m(i \u001b[38;5;241m+\u001b[39m \u001b[38;5;241m1\u001b[39m) \u001b[38;5;241m+\u001b[39m \u001b[38;5;124m\"\u001b[39m\u001b[38;5;124m, returned \u001b[39m\u001b[38;5;124m\"\u001b[39m \u001b[38;5;241m+\u001b[39m \u001b[38;5;28mstr\u001b[39m(response))\n",
      "\u001b[1;31mKeyError\u001b[0m: 'items'"
     ]
    }
   ],
   "source": [
    "from gettext import install\n",
    "from urllib import request, response\n",
    "\n",
    "import requests\n",
    "import time\n",
    "\n",
    "import json\n",
    "\n",
    "complete_data=[]\n",
    "for i in range (45):\n",
    "    response = requests.get(\"https://api.stackexchange.com/2.2/questions?order=desc&sort=activity&site=stackoverflow&pagesize=100&page=\" + str(i + 1))\n",
    "    newData=json.loads(response.text)\n",
    "    for items in newData['items']:\n",
    "        complete_data.append(item)\n",
    "    print(\"Processed page \" + str(i + 1) + \", returned \" + str(response))\n",
    "    time.sleep(2) "
   ]
  },
  {
   "cell_type": "code",
   "execution_count": null,
   "id": "5335ae6b",
   "metadata": {},
   "outputs": [],
   "source": []
  }
 ],
 "metadata": {
  "kernelspec": {
   "display_name": "Python 3 (ipykernel)",
   "language": "python",
   "name": "python3"
  },
  "language_info": {
   "codemirror_mode": {
    "name": "ipython",
    "version": 3
   },
   "file_extension": ".py",
   "mimetype": "text/x-python",
   "name": "python",
   "nbconvert_exporter": "python",
   "pygments_lexer": "ipython3",
   "version": "3.9.12"
  }
 },
 "nbformat": 4,
 "nbformat_minor": 5
}
