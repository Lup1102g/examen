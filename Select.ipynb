{
 "cells": [
  {
   "cell_type": "markdown",
   "metadata": {},
   "source": [
    "# Select\n",
    "<p style='text-align: justify;'>La instrucción <b><font color = green>Select</font></b> de SQLite se utiliza para obtener datos provenientes de una tabla que forma parte de una base de datos. Los datos devueltos se presentan en forma de tablas de resultados también denominanadas conjuntos de resultados.</p>\n",
    "\n",
    "#### Sintaxis\n",
    "\n",
    "<p style=\"text-align: center;\"><b>SELECT</b> <i>column1, column2, columnN</i> <b>FROM</b> <i>table_name</i></p>\n",
    "\n",
    "<p style=\"text-align: center;\">column1, column2 ... son los campos de una tabla.</p>\n",
    "\n",
    "<p style=\"text-align: center;\"><b>SELECT</b> <i>*</i> <b>FROM</b> <i>table_name</i></p>\n",
    "\n",
    "https://www.kaggle.com/hugomathien/soccer"
   ]
  },
  {
   "cell_type": "code",
   "execution_count": 1,
   "metadata": {},
   "outputs": [],
   "source": [
    "import sqlite3"
   ]
  },
  {
   "cell_type": "code",
   "execution_count": 2,
   "metadata": {},
   "outputs": [],
   "source": [
    "db_file = 'data/soccer/database.sqlite'\n",
    "conn = sqlite3.connect(db_file)"
   ]
  },
  {
   "cell_type": "markdown",
   "metadata": {},
   "source": [
    "| Table    |    Total Rows    |    Total Columns    |    Columns                                                                                                                                                                                                                                                                                                                                                                                                                                                                                                                                                                                                                                                                                                                                                                                                                                                                                                                                                                                                                                                                                                                                                                                                                                                                                                                                                                                                                                                                                   |\n",
    "|----------|------------------|---------------------|----------------------------------------------------------------------------------------------------------------------------------------------------------------------------------------------------------------------------------------------------------------------------------------------------------------------------------------------------------------------------------------------------------------------------------------------------------------------------------------------------------------------------------------------------------------------------------------------------------------------------------------------------------------------------------------------------------------------------------------------------------------------------------------------------------------------------------------------------------------------------------------------------------------------------------------------------------------------------------------------------------------------------------------------------------------------------------------------------------------------------------------------------------------------------------------------------------------------------------------------------------------------------------------------------------------------------------------------------------------------------------------------------------------------------------------------------------------------------------------------|\n",
    "| Country  | 11               | 2                   | id, name                                                                                                                                                                                                                                                                                                                                                                                                                                                                                                                                                                                                                                                                                                                                                                                                                                                                                                                                                                                                                                                                                                                                                                                                                                                                                                                                                                                                                                                                                     |\n",
    "| League   | 11               | 3                   | id, country_id, name                                                                                                                                                                                                                                                                                                                                                                                                                                                                                                                                                                                                                                                                                                                                                                                                                                                                                                                                                                                                                                                                                                                                                                                                                                                                                                                                                                                                                                                                         |\n",
    "| Match    | 25979            | 115                 | id, country_id, league_id, season, stage, date, match_api_id, home_team_api_id, away_team_api_id, home_team_goal, away_team_goal, home_player_X1,   home_player_X2, home_player_X3, home_player_X4, home_player_X5,   home_player_X6, home_player_X7, home_player_X8, home_player_X9,   home_player_X10, home_player_X11, away_player_X1, away_player_X2,   away_player_X3, away_player_X4, away_player_X5, away_player_X6,   away_player_X7, away_player_X8, away_player_X9, away_player_X10,   away_player_X11, home_player_Y1, home_player_Y2, home_player_Y3,   home_player_Y4, home_player_Y5, home_player_Y6, home_player_Y7,   home_player_Y8, home_player_Y9, home_player_Y10, home_player_Y11,   away_player_Y1, away_player_Y2, away_player_Y3, away_player_Y4,   away_player_Y5, away_player_Y6, away_player_Y7, away_player_Y8,   away_player_Y9, away_player_Y10, away_player_Y11, home_player_1,   home_player_2, home_player_3, home_player_4, home_player_5, home_player_6,   home_player_7, home_player_8, home_player_9, home_player_10, home_player_11,   away_player_1, away_player_2, away_player_3, away_player_4, away_player_5,   away_player_6, away_player_7, away_player_8, away_player_9, away_player_10,   away_player_11, goal, shoton, shotoff, foulcommit, card, cross, corner,   possession, B365H, B365D, B365A, BWH, BWD, BWA, IWH, IWD, IWA, LBH, LBD, LBA,   PSH, PSD, PSA, WHH, WHD, WHA, SJH, SJD, SJA, VCH, VCD, VCA, GBH, GBD, GBA,   BSH, BSD, BSA |\n",
    "| Player   | 11060            | 7                   | id,   player_api_id, player_name, player_fifa_api_id, birthday, height, weight                                                                                                                                                                                                                                                                                                                                                                                                                                                                                                                                                                                                                                                                                                                                                                                                                                                                                                                                                                                                                                                                                                                                                                                                                                                                                                                                                                                                               |"
   ]
  },
  {
   "cell_type": "code",
   "execution_count": 3,
   "metadata": {},
   "outputs": [
    {
     "ename": "OperationalError",
     "evalue": "no such table: Player",
     "output_type": "error",
     "traceback": [
      "\u001b[1;31m---------------------------------------------------------------------------\u001b[0m",
      "\u001b[1;31mOperationalError\u001b[0m                          Traceback (most recent call last)",
      "Input \u001b[1;32mIn [3]\u001b[0m, in \u001b[0;36m<cell line: 2>\u001b[1;34m()\u001b[0m\n\u001b[0;32m      1\u001b[0m cursorObj \u001b[38;5;241m=\u001b[39m conn\u001b[38;5;241m.\u001b[39mcursor()\n\u001b[1;32m----> 2\u001b[0m \u001b[43mcursorObj\u001b[49m\u001b[38;5;241;43m.\u001b[39;49m\u001b[43mexecute\u001b[49m\u001b[43m(\u001b[49m\u001b[38;5;124;43m'\u001b[39;49m\u001b[38;5;124;43mSELECT player_name from Player\u001b[39;49m\u001b[38;5;124;43m'\u001b[39;49m\u001b[43m)\u001b[49m\n\u001b[0;32m      3\u001b[0m \u001b[38;5;28;01mfor\u001b[39;00m row \u001b[38;5;129;01min\u001b[39;00m cursorObj\u001b[38;5;241m.\u001b[39mfetchall():\n\u001b[0;32m      4\u001b[0m     \u001b[38;5;28mprint\u001b[39m(row)\n",
      "\u001b[1;31mOperationalError\u001b[0m: no such table: Player"
     ]
    }
   ],
   "source": [
    "cursorObj = conn.cursor()\n",
    "cursorObj.execute('SELECT player_name from Player')\n",
    "for row in cursorObj.fetchall():\n",
    "    print(row)"
   ]
  },
  {
   "cell_type": "code",
   "execution_count": null,
   "metadata": {},
   "outputs": [],
   "source": [
    "cursorObj = conn.cursor()\n",
    "cursorObj.execute('SELECT height from Player')\n",
    "for row in cursorObj.fetchall():\n",
    "    print(row)"
   ]
  },
  {
   "cell_type": "code",
   "execution_count": null,
   "metadata": {},
   "outputs": [],
   "source": [
    "cursorObj = conn.cursor()\n",
    "cursorObj.execute('SELECT height from Player')\n",
    "player_heiht = [row[0] for row in cursorObj.fetchall()]\n",
    "print(min(player_heiht))\n",
    "print(max(player_heiht))"
   ]
  },
  {
   "cell_type": "code",
   "execution_count": null,
   "metadata": {},
   "outputs": [],
   "source": [
    "import numpy as np\n",
    "player_heiht = np.array(player_heiht)"
   ]
  },
  {
   "cell_type": "code",
   "execution_count": null,
   "metadata": {},
   "outputs": [],
   "source": [
    "print(player_heiht.mean())\n",
    "print(player_heiht.min())\n",
    "print(player_heiht.max())\n",
    "print(np.quantile(player_heiht,q = [0.25, 0.50, 0.75]))"
   ]
  },
  {
   "cell_type": "code",
   "execution_count": null,
   "metadata": {},
   "outputs": [],
   "source": [
    "cursorObj = conn.cursor()\n",
    "cursorObj.execute('SELECT height, weight from Player')\n",
    "players = [row for row in cursorObj.fetchall()]\n",
    "for n in range(5):\n",
    "    print(players[n])"
   ]
  },
  {
   "cell_type": "code",
   "execution_count": null,
   "metadata": {},
   "outputs": [],
   "source": [
    "players = np.array(players)"
   ]
  },
  {
   "cell_type": "code",
   "execution_count": null,
   "metadata": {},
   "outputs": [],
   "source": [
    "print(\"Promedio \",players.mean(axis=0))\n",
    "print(\"Minimo \", players.min(axis=0))\n",
    "print(\"Maximo \", players.max(axis=0))\n",
    "print(\"Cuartiles \", np.quantile(players,q = [0.25, 0.5, 0.75],axis=0))"
   ]
  },
  {
   "cell_type": "code",
   "execution_count": null,
   "metadata": {},
   "outputs": [],
   "source": [
    "cursorObj = conn.cursor()\n",
    "cursorObj.execute('SELECT name from Country')\n",
    "for row in cursorObj.fetchall():\n",
    "    print(row[0])"
   ]
  },
  {
   "cell_type": "code",
   "execution_count": null,
   "metadata": {},
   "outputs": [],
   "source": [
    "cursorObj = conn.cursor()\n",
    "cursorObj.execute('SELECT name from League')\n",
    "for row in cursorObj.fetchall():\n",
    "    print(row[0])"
   ]
  },
  {
   "cell_type": "code",
   "execution_count": null,
   "metadata": {},
   "outputs": [],
   "source": []
  },
  {
   "cell_type": "code",
   "execution_count": null,
   "metadata": {},
   "outputs": [],
   "source": []
  }
 ],
 "metadata": {
  "kernelspec": {
   "display_name": "Python 3 (ipykernel)",
   "language": "python",
   "name": "python3"
  },
  "language_info": {
   "codemirror_mode": {
    "name": "ipython",
    "version": 3
   },
   "file_extension": ".py",
   "mimetype": "text/x-python",
   "name": "python",
   "nbconvert_exporter": "python",
   "pygments_lexer": "ipython3",
   "version": "3.9.12"
  }
 },
 "nbformat": 4,
 "nbformat_minor": 2
}
