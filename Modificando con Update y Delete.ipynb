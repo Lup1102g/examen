{
 "cells": [
  {
   "cell_type": "markdown",
   "metadata": {},
   "source": [
    "# Update\n",
    "<p style='text-align: justify;'>SQLite <b><font color = green>Update</font></b> Query se usa para modificar los registros existentes en una tabla. Se puede usar la cláusula <b><font color = green>Where</font></b> con la consulta <b><font color = green>Update</font></b> para actualizar las filas seleccionadas, de lo contrario se actualizarían todas las filas.</p>\n",
    "\n",
    "### Sintaxís\n",
    "\n",
    "<p style=\"text-align: center;\">\n",
    "    <b>UPDATE</b> <i>table_name</i> <b>SET</b> <i>column1=Value1, column2 = value2...., columnN = valueN</i> <b>WHERE</b> <i>condition</i>\n",
    "</p>\n",
    "\n"
   ]
  },
  {
   "cell_type": "code",
   "execution_count": null,
   "metadata": {
    "collapsed": true
   },
   "outputs": [],
   "source": [
    "import sqlite3\n",
    "db_file = 'data/soccer/database.sqlite'\n",
    "conn = sqlite3.connect(db_file)"
   ]
  },
  {
   "cell_type": "markdown",
   "metadata": {},
   "source": [
    "| Table    |    Total Rows    |    Total Columns    |    Columns                                                                                                                                                                                                                                                                                                                                                                                                                                                                                                                                                                                                                                                                                                                                                                                                                                                                                                                                                                                                                                                                                                                                                                                                                                                                                                                                                                                                                                                                                   |\n",
    "|----------|------------------|---------------------|----------------------------------------------------------------------------------------------------------------------------------------------------------------------------------------------------------------------------------------------------------------------------------------------------------------------------------------------------------------------------------------------------------------------------------------------------------------------------------------------------------------------------------------------------------------------------------------------------------------------------------------------------------------------------------------------------------------------------------------------------------------------------------------------------------------------------------------------------------------------------------------------------------------------------------------------------------------------------------------------------------------------------------------------------------------------------------------------------------------------------------------------------------------------------------------------------------------------------------------------------------------------------------------------------------------------------------------------------------------------------------------------------------------------------------------------------------------------------------------------|\n",
    "| Country  | 11               | 2                   | id, name                                                                                                                                                                                                                                                                                                                                                                                                                                                                                                                                                                                                                                                                                                                                                                                                                                                                                                                                                                                                                                                                                                                                                                                                                                                                                                                                                                                                                                                                                     |\n",
    "| League   | 11               | 3                   | id, country_id, name                                                                                                                                                                                                                                                                                                                                                                                                                                                                                                                                                                                                                                                                                                                                                                                                                                                                                                                                                                                                                                                                                                                                                                                                                                                                                                                                                                                                                                                                         |\n",
    "| Match    | 25979            | 115                 | id, country_id, league_id, season, stage, date, match_api_id, home_team_api_id, away_team_api_id, home_team_goal, away_team_goal, home_player_X1,   home_player_X2, home_player_X3, home_player_X4, home_player_X5,   home_player_X6, home_player_X7, home_player_X8, home_player_X9,   home_player_X10, home_player_X11, away_player_X1, away_player_X2,   away_player_X3, away_player_X4, away_player_X5, away_player_X6,   away_player_X7, away_player_X8, away_player_X9, away_player_X10,   away_player_X11, home_player_Y1, home_player_Y2, home_player_Y3,   home_player_Y4, home_player_Y5, home_player_Y6, home_player_Y7,   home_player_Y8, home_player_Y9, home_player_Y10, home_player_Y11,   away_player_Y1, away_player_Y2, away_player_Y3, away_player_Y4,   away_player_Y5, away_player_Y6, away_player_Y7, away_player_Y8,   away_player_Y9, away_player_Y10, away_player_Y11, home_player_1,   home_player_2, home_player_3, home_player_4, home_player_5, home_player_6,   home_player_7, home_player_8, home_player_9, home_player_10, home_player_11,   away_player_1, away_player_2, away_player_3, away_player_4, away_player_5,   away_player_6, away_player_7, away_player_8, away_player_9, away_player_10,   away_player_11, goal, shoton, shotoff, foulcommit, card, cross, corner,   possession, B365H, B365D, B365A, BWH, BWD, BWA, IWH, IWD, IWA, LBH, LBD, LBA,   PSH, PSD, PSA, WHH, WHD, WHA, SJH, SJD, SJA, VCH, VCD, VCA, GBH, GBD, GBA,   BSH, BSD, BSA |\n",
    "| Player   | 11060            | 7                   | id,   player_api_id, player_name, player_fifa_api_id, birthday, height, weight                                                                                                                                                                                                                                                                                                                                                                                                                                                                                                                                                                                                                                                                                                                                                                                                                                                                                                                                                                                                                                                                                                                                                                                                                                                                                                                                                                                                               |"
   ]
  },
  {
   "cell_type": "code",
   "execution_count": null,
   "metadata": {},
   "outputs": [],
   "source": [
    "cursorObj = conn.cursor()\n",
    "cursorObj.execute('SELECT * from Player')\n",
    "for row in cursorObj.fetchall():\n",
    "    print(row)"
   ]
  },
  {
   "cell_type": "code",
   "execution_count": null,
   "metadata": {},
   "outputs": [],
   "source": [
    "# UPDATE table_name SET column1=Value1, column2 = value2...., columnN = valueN WHERE condition\n",
    "conn.execute('UPDATE Player SET height=190, weight=170 WHERE id==103')"
   ]
  },
  {
   "cell_type": "code",
   "execution_count": null,
   "metadata": {
    "collapsed": true
   },
   "outputs": [],
   "source": [
    "cursorObj = conn.cursor()\n",
    "cursorObj.execute('SELECT * from Player Where id==103')\n",
    "for row in cursorObj.fetchall():\n",
    "    print(row)"
   ]
  },
  {
   "cell_type": "markdown",
   "metadata": {},
   "source": [
    "# DELETE\n",
    "\n",
    "SQLite <b><font color = green>Delete</font></b> se usa para eliminar los registros existentes de una tabla. Se puede usar la cláusula <b><font color = green>Where</font></b> con la consulta <b><font color = green>Delete</font></b> para eliminar las filas seleccionadas, de lo contrario se eliminarían todos los registros.\n",
    "\n",
    "### Sintaxís\n",
    "\n",
    "<p style=\"text-align: center;\">\n",
    "    <b>DELETE FROM</b> <i>table_name</i> <b>WHERE</b> <i>condition</i>\n",
    "</p>\n"
   ]
  },
  {
   "cell_type": "code",
   "execution_count": null,
   "metadata": {},
   "outputs": [],
   "source": [
    "conn.execute('DELETE FROM Player WHERE id==103')"
   ]
  },
  {
   "cell_type": "code",
   "execution_count": null,
   "metadata": {
    "collapsed": true
   },
   "outputs": [],
   "source": [
    "cursorObj = conn.cursor()\n",
    "cursorObj.execute('SELECT * from Player Where id==103')\n",
    "for row in cursorObj.fetchall():\n",
    "    print(row)"
   ]
  },
  {
   "cell_type": "code",
   "execution_count": null,
   "metadata": {
    "collapsed": true
   },
   "outputs": [],
   "source": [
    "# conn.commit()"
   ]
  }
 ],
 "metadata": {
  "kernelspec": {
   "display_name": "Python 3",
   "language": "python",
   "name": "python3"
  },
  "language_info": {
   "codemirror_mode": {
    "name": "ipython",
    "version": 3
   },
   "file_extension": ".py",
   "mimetype": "text/x-python",
   "name": "python",
   "nbconvert_exporter": "python",
   "pygments_lexer": "ipython3",
   "version": "3.6.2"
  }
 },
 "nbformat": 4,
 "nbformat_minor": 2
}
