{
 "cells": [
  {
   "cell_type": "markdown",
   "metadata": {},
   "source": [
    "# Select Where\n",
    "\n",
    "<p style='text-align: justify;'>La instrucción <font color = green><b>Where<b></font> nos permite especificar la condición que deben de cumplir los datos que estamos buscando. Lo cual permite que nuestra consulta a la base de datos sea más precisa y encontremos datos más precisos.</p>\n",
    "    \n",
    "#### Sintaxis\n",
    "\n",
    "<p style=\"text-align: center;\">\n",
    "<b>SELECT</b> <i>column1, column2, columnN</i> <b>FROM</b> <i>table_name</i> <b>WHERE</b> <i>condition</i> \n",
    "</p>\n",
    "\n",
    "https://www.kaggle.com/hugomathien/soccer\n"
   ]
  },
  {
   "cell_type": "code",
   "execution_count": null,
   "metadata": {
    "collapsed": true
   },
   "outputs": [],
   "source": [
    "import sqlite3\n",
    "db_file = 'data/soccer/database.sqlite'\n",
    "conn = sqlite3.connect(db_file)"
   ]
  },
  {
   "cell_type": "markdown",
   "metadata": {},
   "source": [
    "| Table    |    Total Rows    |    Total Columns    |    Columns                                                                                                                                                                                                                                                                                                                                                                                                                                                                                                                                                                                                                                                                                                                                                                                                                                                                                                                                                                                                                                                                                                                                                                                                                                                                                                                                                                                                                                                                                   |\n",
    "|----------|------------------|---------------------|----------------------------------------------------------------------------------------------------------------------------------------------------------------------------------------------------------------------------------------------------------------------------------------------------------------------------------------------------------------------------------------------------------------------------------------------------------------------------------------------------------------------------------------------------------------------------------------------------------------------------------------------------------------------------------------------------------------------------------------------------------------------------------------------------------------------------------------------------------------------------------------------------------------------------------------------------------------------------------------------------------------------------------------------------------------------------------------------------------------------------------------------------------------------------------------------------------------------------------------------------------------------------------------------------------------------------------------------------------------------------------------------------------------------------------------------------------------------------------------------|\n",
    "| Country  | 11               | 2                   | id, name                                                                                                                                                                                                                                                                                                                                                                                                                                                                                                                                                                                                                                                                                                                                                                                                                                                                                                                                                                                                                                                                                                                                                                                                                                                                                                                                                                                                                                                                                     |\n",
    "| League   | 11               | 3                   | id, country_id, name                                                                                                                                                                                                                                                                                                                                                                                                                                                                                                                                                                                                                                                                                                                                                                                                                                                                                                                                                                                                                                                                                                                                                                                                                                                                                                                                                                                                                                                                         |\n",
    "| Match    | 25979            | 115                 | id, country_id, league_id, season, stage, date, match_api_id, home_team_api_id, away_team_api_id, home_team_goal, away_team_goal, home_player_X1,   home_player_X2, home_player_X3, home_player_X4, home_player_X5,   home_player_X6, home_player_X7, home_player_X8, home_player_X9,   home_player_X10, home_player_X11, away_player_X1, away_player_X2,   away_player_X3, away_player_X4, away_player_X5, away_player_X6,   away_player_X7, away_player_X8, away_player_X9, away_player_X10,   away_player_X11, home_player_Y1, home_player_Y2, home_player_Y3,   home_player_Y4, home_player_Y5, home_player_Y6, home_player_Y7,   home_player_Y8, home_player_Y9, home_player_Y10, home_player_Y11,   away_player_Y1, away_player_Y2, away_player_Y3, away_player_Y4,   away_player_Y5, away_player_Y6, away_player_Y7, away_player_Y8,   away_player_Y9, away_player_Y10, away_player_Y11, home_player_1,   home_player_2, home_player_3, home_player_4, home_player_5, home_player_6,   home_player_7, home_player_8, home_player_9, home_player_10, home_player_11,   away_player_1, away_player_2, away_player_3, away_player_4, away_player_5,   away_player_6, away_player_7, away_player_8, away_player_9, away_player_10,   away_player_11, goal, shoton, shotoff, foulcommit, card, cross, corner,   possession, B365H, B365D, B365A, BWH, BWD, BWA, IWH, IWD, IWA, LBH, LBD, LBA,   PSH, PSD, PSA, WHH, WHD, WHA, SJH, SJD, SJA, VCH, VCD, VCA, GBH, GBD, GBA,   BSH, BSD, BSA |\n",
    "| Player   | 11060            | 7                   | id,   player_api_id, player_name, player_fifa_api_id, birthday, height, weight                                                                                                                                                                                                                                                                                                                                                                                                                                                                                                                                                                                                                                                                                                                                                                                                                                                                                                                                                                                                                                                                                                                                                                                                                                                                                                                                                                                                               |"
   ]
  },
  {
   "cell_type": "code",
   "execution_count": null,
   "metadata": {},
   "outputs": [],
   "source": [
    "cursorObj = conn.cursor()\n",
    "cursorObj.execute('SELECT * from Player WHERE height>200')\n",
    "for row in cursorObj.fetchall():\n",
    "    print(row)"
   ]
  },
  {
   "cell_type": "code",
   "execution_count": null,
   "metadata": {},
   "outputs": [],
   "source": [
    "cursorObj = conn.cursor()\n",
    "cursorObj.execute('SELECT * from Country,League Where Country.id==League.country_id')\n",
    "# Country.name,League.name\n",
    "for row in cursorObj.fetchall():\n",
    "    print(row)"
   ]
  },
  {
   "cell_type": "markdown",
   "metadata": {},
   "source": [
    "# JOIN\n",
    "\n",
    "<p style='text-align: justify;'><font color = green><b>Inner Join<b></font> crea una nueva tabla de resultados combinando valores a partir de dos tablas basadas en la condición de unión.</p>\n",
    "<center><img src=\"img/InnerJoin.png\" width = \"70%\"></center>\n",
    "<p style='text-align: justify;'>La consulta compara cada fila de la tabla 1 con cada fila de la tabla 2 para encontrar todos los pares de filas que satisfacen la condición de unión. Cuando se cumple el predicado de unión, los valores de columna para cada par de filas coincidentes de A y B se combinan en una fila de resultados.</p>\n",
    "\n",
    "<p style='text-align: justify;'><font color = green><b>Inner Join<b></font> es el tipo de unión más común y predeterminado. Puede utilizar la palabra clave interna de forma opcional. A continuación se muestra la sintaxis de <font color = green><b>Inner Join<b></font>:</p>\n",
    "\n",
    "    \n",
    "#### Sintaxis\n",
    "\n",
    "<p style=\"text-align: center;\">\n",
    "<b>SELECT</b> <i>column1, column2, columnN</i> <b>FROM</b> <i>table_1_name</i> <b>INNER JOIN</b> <i>table2_name</i> <b>ON</b> <i>condition</i>\n",
    "</p>\n",
    "\n",
    "\n",
    "#### Otros tipos de Join\n",
    "<br>\n",
    "<center><img src=\"img/Joins.png\" width = \"100%\"></center>"
   ]
  },
  {
   "cell_type": "code",
   "execution_count": null,
   "metadata": {},
   "outputs": [],
   "source": [
    "cursorObj = conn.cursor()\n",
    "cursorObj.execute('SELECT * from Country INNER JOIN League ON Country.id==League.country_id')\n",
    "for row in cursorObj.fetchall():\n",
    "    print(row)"
   ]
  },
  {
   "cell_type": "code",
   "execution_count": null,
   "metadata": {},
   "outputs": [],
   "source": [
    "cursorObj = conn.cursor()\n",
    "cursorObj.execute('''SELECT League.name,Match.home_team_goal,Match.away_team_goal,Match.date \n",
    "                  FROM League INNER JOIN Match ON Match.league_id==League.id \n",
    "                  WHERE Match.home_team_goal>5''')\n",
    "for row in cursorObj.fetchall():\n",
    "    print(row)"
   ]
  }
 ],
 "metadata": {
  "kernelspec": {
   "display_name": "Python 3",
   "language": "python",
   "name": "python3"
  },
  "language_info": {
   "codemirror_mode": {
    "name": "ipython",
    "version": 3
   },
   "file_extension": ".py",
   "mimetype": "text/x-python",
   "name": "python",
   "nbconvert_exporter": "python",
   "pygments_lexer": "ipython3",
   "version": "3.6.2"
  }
 },
 "nbformat": 4,
 "nbformat_minor": 2
}
